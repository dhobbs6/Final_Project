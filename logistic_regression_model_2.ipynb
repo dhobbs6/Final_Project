{
 "cells": [
  {
   "cell_type": "code",
   "execution_count": 1,
   "id": "bd8cc1df",
   "metadata": {},
   "outputs": [],
   "source": [
    "import pandas as pd\n",
    "from sklearn.linear_model import LogisticRegression\n",
    "from sklearn.model_selection import train_test_split\n",
    "from sklearn.preprocessing import StandardScaler\n",
    "from pathlib import Path\n",
    "from collections import Counter"
   ]
  },
  {
   "cell_type": "code",
   "execution_count": 2,
   "id": "e9b0cf93",
   "metadata": {},
   "outputs": [
    {
     "data": {
      "text/html": [
       "<div>\n",
       "<style scoped>\n",
       "    .dataframe tbody tr th:only-of-type {\n",
       "        vertical-align: middle;\n",
       "    }\n",
       "\n",
       "    .dataframe tbody tr th {\n",
       "        vertical-align: top;\n",
       "    }\n",
       "\n",
       "    .dataframe thead th {\n",
       "        text-align: right;\n",
       "    }\n",
       "</style>\n",
       "<table border=\"1\" class=\"dataframe\">\n",
       "  <thead>\n",
       "    <tr style=\"text-align: right;\">\n",
       "      <th></th>\n",
       "      <th>filmtv_id</th>\n",
       "      <th>title</th>\n",
       "      <th>year</th>\n",
       "      <th>genre</th>\n",
       "      <th>duration</th>\n",
       "      <th>country</th>\n",
       "      <th>directors</th>\n",
       "      <th>actors</th>\n",
       "      <th>avg_vote</th>\n",
       "      <th>critics_vote</th>\n",
       "      <th>public_vote</th>\n",
       "      <th>total_votes</th>\n",
       "      <th>description</th>\n",
       "      <th>notes</th>\n",
       "      <th>humor</th>\n",
       "      <th>rhythm</th>\n",
       "      <th>effort</th>\n",
       "      <th>tension</th>\n",
       "      <th>erotism</th>\n",
       "    </tr>\n",
       "  </thead>\n",
       "  <tbody>\n",
       "    <tr>\n",
       "      <th>0</th>\n",
       "      <td>3</td>\n",
       "      <td>18 anni tra una settimana</td>\n",
       "      <td>1991</td>\n",
       "      <td>Drama</td>\n",
       "      <td>98</td>\n",
       "      <td>Italy</td>\n",
       "      <td>Luigi Perelli</td>\n",
       "      <td>Kim Rossi Stuart, Simona Cavallari, Ennio Fant...</td>\n",
       "      <td>6.5</td>\n",
       "      <td>6.00</td>\n",
       "      <td>7</td>\n",
       "      <td>4</td>\n",
       "      <td>Samantha, not yet eighteen, leaves the comfort...</td>\n",
       "      <td>Luigi Perelli, the director of the \"Piovra\", o...</td>\n",
       "      <td>0</td>\n",
       "      <td>2</td>\n",
       "      <td>0</td>\n",
       "      <td>2</td>\n",
       "      <td>0</td>\n",
       "    </tr>\n",
       "    <tr>\n",
       "      <th>1</th>\n",
       "      <td>17</td>\n",
       "      <td>Ride a Wild Pony</td>\n",
       "      <td>1976</td>\n",
       "      <td>Romantic</td>\n",
       "      <td>91</td>\n",
       "      <td>United States</td>\n",
       "      <td>Don Chaffey</td>\n",
       "      <td>Michael Craig, John Meillon, Eva Griffith, Gra...</td>\n",
       "      <td>5.6</td>\n",
       "      <td>6.00</td>\n",
       "      <td>5</td>\n",
       "      <td>9</td>\n",
       "      <td>In the Australia of the pioneers, a boy and a ...</td>\n",
       "      <td>\"Ecological\" story with a happy ending, not wi...</td>\n",
       "      <td>1</td>\n",
       "      <td>2</td>\n",
       "      <td>1</td>\n",
       "      <td>0</td>\n",
       "      <td>0</td>\n",
       "    </tr>\n",
       "    <tr>\n",
       "      <th>2</th>\n",
       "      <td>18</td>\n",
       "      <td>Diner</td>\n",
       "      <td>1982</td>\n",
       "      <td>Comedy</td>\n",
       "      <td>95</td>\n",
       "      <td>United States</td>\n",
       "      <td>Barry Levinson</td>\n",
       "      <td>Mickey Rourke, Steve Guttenberg, Ellen Barkin,...</td>\n",
       "      <td>7.0</td>\n",
       "      <td>8.00</td>\n",
       "      <td>6</td>\n",
       "      <td>18</td>\n",
       "      <td>Five boys from Baltimore have a habit of meeti...</td>\n",
       "      <td>A cast of will be famous for Levinson's direct...</td>\n",
       "      <td>2</td>\n",
       "      <td>2</td>\n",
       "      <td>0</td>\n",
       "      <td>1</td>\n",
       "      <td>2</td>\n",
       "    </tr>\n",
       "    <tr>\n",
       "      <th>3</th>\n",
       "      <td>20</td>\n",
       "      <td>A che servono questi quattrini?</td>\n",
       "      <td>1942</td>\n",
       "      <td>Comedy</td>\n",
       "      <td>85</td>\n",
       "      <td>Italy</td>\n",
       "      <td>Esodo Pratelli</td>\n",
       "      <td>Eduardo De Filippo, Peppino De Filippo, Clelia...</td>\n",
       "      <td>5.9</td>\n",
       "      <td>5.33</td>\n",
       "      <td>7</td>\n",
       "      <td>15</td>\n",
       "      <td>With a stratagem, the penniless and somewhat p...</td>\n",
       "      <td>Taken from the play by Armando Curcio that the...</td>\n",
       "      <td>3</td>\n",
       "      <td>1</td>\n",
       "      <td>1</td>\n",
       "      <td>0</td>\n",
       "      <td>0</td>\n",
       "    </tr>\n",
       "    <tr>\n",
       "      <th>4</th>\n",
       "      <td>21</td>\n",
       "      <td>The Uranian Conspiracy</td>\n",
       "      <td>1978</td>\n",
       "      <td>Spy</td>\n",
       "      <td>117</td>\n",
       "      <td>Italy, Germany, Israel</td>\n",
       "      <td>Gianfranco Baldanello, Menahem Golan</td>\n",
       "      <td>Fabio Testi, Janet Agren, Assaf Dayan, Siegfri...</td>\n",
       "      <td>4.8</td>\n",
       "      <td>3.50</td>\n",
       "      <td>6</td>\n",
       "      <td>3</td>\n",
       "      <td>Two Israeli secret agents discover that traffi...</td>\n",
       "      <td>Action and chases for half of Europe, espionag...</td>\n",
       "      <td>1</td>\n",
       "      <td>2</td>\n",
       "      <td>0</td>\n",
       "      <td>2</td>\n",
       "      <td>0</td>\n",
       "    </tr>\n",
       "  </tbody>\n",
       "</table>\n",
       "</div>"
      ],
      "text/plain": [
       "   filmtv_id                            title  year     genre  duration  \\\n",
       "0          3        18 anni tra una settimana  1991     Drama        98   \n",
       "1         17                 Ride a Wild Pony  1976  Romantic        91   \n",
       "2         18                            Diner  1982    Comedy        95   \n",
       "3         20  A che servono questi quattrini?  1942    Comedy        85   \n",
       "4         21           The Uranian Conspiracy  1978       Spy       117   \n",
       "\n",
       "                  country                             directors  \\\n",
       "0                   Italy                         Luigi Perelli   \n",
       "1           United States                           Don Chaffey   \n",
       "2           United States                        Barry Levinson   \n",
       "3                   Italy                        Esodo Pratelli   \n",
       "4  Italy, Germany, Israel  Gianfranco Baldanello, Menahem Golan   \n",
       "\n",
       "                                              actors  avg_vote  critics_vote  \\\n",
       "0  Kim Rossi Stuart, Simona Cavallari, Ennio Fant...       6.5          6.00   \n",
       "1  Michael Craig, John Meillon, Eva Griffith, Gra...       5.6          6.00   \n",
       "2  Mickey Rourke, Steve Guttenberg, Ellen Barkin,...       7.0          8.00   \n",
       "3  Eduardo De Filippo, Peppino De Filippo, Clelia...       5.9          5.33   \n",
       "4  Fabio Testi, Janet Agren, Assaf Dayan, Siegfri...       4.8          3.50   \n",
       "\n",
       "   public_vote  total_votes  \\\n",
       "0            7            4   \n",
       "1            5            9   \n",
       "2            6           18   \n",
       "3            7           15   \n",
       "4            6            3   \n",
       "\n",
       "                                         description  \\\n",
       "0  Samantha, not yet eighteen, leaves the comfort...   \n",
       "1  In the Australia of the pioneers, a boy and a ...   \n",
       "2  Five boys from Baltimore have a habit of meeti...   \n",
       "3  With a stratagem, the penniless and somewhat p...   \n",
       "4  Two Israeli secret agents discover that traffi...   \n",
       "\n",
       "                                               notes  humor  rhythm  effort  \\\n",
       "0  Luigi Perelli, the director of the \"Piovra\", o...      0       2       0   \n",
       "1  \"Ecological\" story with a happy ending, not wi...      1       2       1   \n",
       "2  A cast of will be famous for Levinson's direct...      2       2       0   \n",
       "3  Taken from the play by Armando Curcio that the...      3       1       1   \n",
       "4  Action and chases for half of Europe, espionag...      1       2       0   \n",
       "\n",
       "   tension  erotism  \n",
       "0        2        0  \n",
       "1        0        0  \n",
       "2        1        2  \n",
       "3        0        0  \n",
       "4        2        0  "
      ]
     },
     "execution_count": 2,
     "metadata": {},
     "output_type": "execute_result"
    }
   ],
   "source": [
    "# Loading the Dataset\n",
    "file_path = Path('./Resources/clean_tvfilm.csv')\n",
    "tvfilm_df = pd.read_csv(file_path)\n",
    "tvfilm_df.head()"
   ]
  },
  {
   "cell_type": "code",
   "execution_count": 3,
   "id": "536ea37e",
   "metadata": {},
   "outputs": [],
   "source": [
    "# Creating a threshold for 'avg_vote' column\n",
    "threshold = 3\n",
    "\n",
    "# Creating a new column determining the films success\n",
    "tvfilm_df['is_successful'] = tvfilm_df['humor'].apply(lambda x: 'is_successfil' \n",
    "                                                         if x >= threshold else \n",
    "                                                         'not_successful')\n",
    "# Splitting the data into training and testing\n",
    "X = tvfilm_df[['humor', 'rhythm', 'effort', 'tension', 'erotism']]\n",
    "y = tvfilm_df['is_successful']"
   ]
  },
  {
   "cell_type": "code",
   "execution_count": 4,
   "id": "7a2c25c1",
   "metadata": {},
   "outputs": [],
   "source": [
    "# Select the features (avg_vote, duration) and target (is_successful)\n",
    "X = tvfilm_df[['humor', 'rhythm', 'effort', 'tension', 'erotism']]\n",
    "y = tvfilm_df['is_successful']"
   ]
  },
  {
   "cell_type": "code",
   "execution_count": 5,
   "id": "37bd8cd3",
   "metadata": {},
   "outputs": [
    {
     "data": {
      "text/html": [
       "<div>\n",
       "<style scoped>\n",
       "    .dataframe tbody tr th:only-of-type {\n",
       "        vertical-align: middle;\n",
       "    }\n",
       "\n",
       "    .dataframe tbody tr th {\n",
       "        vertical-align: top;\n",
       "    }\n",
       "\n",
       "    .dataframe thead th {\n",
       "        text-align: right;\n",
       "    }\n",
       "</style>\n",
       "<table border=\"1\" class=\"dataframe\">\n",
       "  <thead>\n",
       "    <tr style=\"text-align: right;\">\n",
       "      <th></th>\n",
       "      <th>humor</th>\n",
       "      <th>rhythm</th>\n",
       "      <th>effort</th>\n",
       "      <th>tension</th>\n",
       "      <th>erotism</th>\n",
       "    </tr>\n",
       "  </thead>\n",
       "  <tbody>\n",
       "    <tr>\n",
       "      <th>count</th>\n",
       "      <td>17073.000000</td>\n",
       "      <td>17073.00000</td>\n",
       "      <td>17073.000000</td>\n",
       "      <td>17073.000000</td>\n",
       "      <td>17073.000000</td>\n",
       "    </tr>\n",
       "    <tr>\n",
       "      <th>mean</th>\n",
       "      <td>0.891583</td>\n",
       "      <td>2.02501</td>\n",
       "      <td>1.037428</td>\n",
       "      <td>1.373279</td>\n",
       "      <td>0.482692</td>\n",
       "    </tr>\n",
       "    <tr>\n",
       "      <th>std</th>\n",
       "      <td>0.981624</td>\n",
       "      <td>0.82701</td>\n",
       "      <td>1.233634</td>\n",
       "      <td>1.097787</td>\n",
       "      <td>0.742706</td>\n",
       "    </tr>\n",
       "    <tr>\n",
       "      <th>min</th>\n",
       "      <td>0.000000</td>\n",
       "      <td>0.00000</td>\n",
       "      <td>0.000000</td>\n",
       "      <td>0.000000</td>\n",
       "      <td>0.000000</td>\n",
       "    </tr>\n",
       "    <tr>\n",
       "      <th>25%</th>\n",
       "      <td>0.000000</td>\n",
       "      <td>2.00000</td>\n",
       "      <td>0.000000</td>\n",
       "      <td>0.000000</td>\n",
       "      <td>0.000000</td>\n",
       "    </tr>\n",
       "    <tr>\n",
       "      <th>50%</th>\n",
       "      <td>1.000000</td>\n",
       "      <td>2.00000</td>\n",
       "      <td>1.000000</td>\n",
       "      <td>1.000000</td>\n",
       "      <td>0.000000</td>\n",
       "    </tr>\n",
       "    <tr>\n",
       "      <th>75%</th>\n",
       "      <td>2.000000</td>\n",
       "      <td>2.00000</td>\n",
       "      <td>2.000000</td>\n",
       "      <td>2.000000</td>\n",
       "      <td>1.000000</td>\n",
       "    </tr>\n",
       "    <tr>\n",
       "      <th>max</th>\n",
       "      <td>5.000000</td>\n",
       "      <td>5.00000</td>\n",
       "      <td>5.000000</td>\n",
       "      <td>5.000000</td>\n",
       "      <td>4.000000</td>\n",
       "    </tr>\n",
       "  </tbody>\n",
       "</table>\n",
       "</div>"
      ],
      "text/plain": [
       "              humor       rhythm        effort       tension       erotism\n",
       "count  17073.000000  17073.00000  17073.000000  17073.000000  17073.000000\n",
       "mean       0.891583      2.02501      1.037428      1.373279      0.482692\n",
       "std        0.981624      0.82701      1.233634      1.097787      0.742706\n",
       "min        0.000000      0.00000      0.000000      0.000000      0.000000\n",
       "25%        0.000000      2.00000      0.000000      0.000000      0.000000\n",
       "50%        1.000000      2.00000      1.000000      1.000000      0.000000\n",
       "75%        2.000000      2.00000      2.000000      2.000000      1.000000\n",
       "max        5.000000      5.00000      5.000000      5.000000      4.000000"
      ]
     },
     "execution_count": 5,
     "metadata": {},
     "output_type": "execute_result"
    }
   ],
   "source": [
    "X.describe()"
   ]
  },
  {
   "cell_type": "code",
   "execution_count": 6,
   "id": "e076c443",
   "metadata": {},
   "outputs": [
    {
     "data": {
      "text/plain": [
       "not_successful    15893\n",
       "is_successfil      1180\n",
       "Name: is_successful, dtype: int64"
      ]
     },
     "execution_count": 6,
     "metadata": {},
     "output_type": "execute_result"
    }
   ],
   "source": [
    "# Check the balance of our target values\n",
    "y.value_counts()"
   ]
  },
  {
   "cell_type": "code",
   "execution_count": 7,
   "id": "13a1b8a2",
   "metadata": {},
   "outputs": [
    {
     "data": {
      "text/plain": [
       "(12804, 5)"
      ]
     },
     "execution_count": 7,
     "metadata": {},
     "output_type": "execute_result"
    }
   ],
   "source": [
    "from sklearn.model_selection import train_test_split\n",
    "X_train, X_test, y_train, y_test = train_test_split(X, \n",
    "                                                    y, \n",
    "                                                    random_state=1, \n",
    "                                                    stratify=y)\n",
    "X_train.shape"
   ]
  },
  {
   "cell_type": "code",
   "execution_count": 8,
   "id": "9ba21797",
   "metadata": {},
   "outputs": [
    {
     "data": {
      "text/plain": [
       "Counter({'not_successful': 11919, 'is_successfil': 11919})"
      ]
     },
     "execution_count": 8,
     "metadata": {},
     "output_type": "execute_result"
    }
   ],
   "source": [
    "### OVERSAMPLING\n",
    "## Native Random Oversampling\n",
    "# Resample the training data with the RandomOversampler\n",
    "from imblearn.over_sampling import RandomOverSampler\n",
    "ros = RandomOverSampler(random_state=1)\n",
    "X_resampled, y_resampled = ros.fit_resample(X_train, y_train)\n",
    "Counter(y_resampled)"
   ]
  },
  {
   "cell_type": "code",
   "execution_count": 9,
   "id": "da6bde4f",
   "metadata": {},
   "outputs": [
    {
     "data": {
      "text/plain": [
       "LogisticRegression(random_state=1)"
      ]
     },
     "execution_count": 9,
     "metadata": {},
     "output_type": "execute_result"
    }
   ],
   "source": [
    "# Train the Logistic Regression model using the resampled data\n",
    "from sklearn.linear_model import LogisticRegression\n",
    "model = LogisticRegression(solver='lbfgs', random_state=1)\n",
    "model.fit(X_resampled, y_resampled)"
   ]
  },
  {
   "cell_type": "code",
   "execution_count": 10,
   "id": "337799fd",
   "metadata": {},
   "outputs": [
    {
     "data": {
      "text/plain": [
       "1.0"
      ]
     },
     "execution_count": 10,
     "metadata": {},
     "output_type": "execute_result"
    }
   ],
   "source": [
    "# Calculated the balanced accuracy score\n",
    "from sklearn.metrics import balanced_accuracy_score\n",
    "y_pred = model.predict(X_test)\n",
    "balanced_accuracy_score(y_test, y_pred)"
   ]
  },
  {
   "cell_type": "code",
   "execution_count": 11,
   "id": "cb16d55f",
   "metadata": {},
   "outputs": [
    {
     "data": {
      "text/plain": [
       "array([[ 295,    0],\n",
       "       [   0, 3974]])"
      ]
     },
     "execution_count": 11,
     "metadata": {},
     "output_type": "execute_result"
    }
   ],
   "source": [
    "# Display the confusion matrix\n",
    "from sklearn.metrics import confusion_matrix\n",
    "y_pred = model.predict(X_test)\n",
    "confusion_matrix(y_test, y_pred)"
   ]
  },
  {
   "cell_type": "code",
   "execution_count": 12,
   "id": "f52a0f59",
   "metadata": {},
   "outputs": [
    {
     "name": "stdout",
     "output_type": "stream",
     "text": [
      "                      pre       rec       spe        f1       geo       iba       sup\n",
      "\n",
      " is_successfil       1.00      1.00      1.00      1.00      1.00      1.00       295\n",
      "not_successful       1.00      1.00      1.00      1.00      1.00      1.00      3974\n",
      "\n",
      "   avg / total       1.00      1.00      1.00      1.00      1.00      1.00      4269\n",
      "\n"
     ]
    }
   ],
   "source": [
    "# Print the imbalanced classification report\n",
    "from imblearn.metrics import classification_report_imbalanced\n",
    "print(classification_report_imbalanced(y_test, y_pred))"
   ]
  },
  {
   "cell_type": "code",
   "execution_count": 13,
   "id": "d17b3bfd",
   "metadata": {},
   "outputs": [
    {
     "data": {
      "text/plain": [
       "Counter({'not_successful': 11919, 'is_successfil': 11919})"
      ]
     },
     "execution_count": 13,
     "metadata": {},
     "output_type": "execute_result"
    }
   ],
   "source": [
    "### OVERSAMPLING\n",
    "## SMOTE Oversampleing\n",
    "# Resample the training data with SMOTE\n",
    "from imblearn.over_sampling import SMOTE\n",
    "X_resampled, y_resampled = SMOTE(random_state=1, sampling_strategy='auto').fit_resample(\n",
    "    X_train, y_train\n",
    ")\n",
    "Counter(y_resampled)"
   ]
  },
  {
   "cell_type": "code",
   "execution_count": 14,
   "id": "4db1c289",
   "metadata": {},
   "outputs": [
    {
     "data": {
      "text/plain": [
       "LogisticRegression(random_state=1)"
      ]
     },
     "execution_count": 14,
     "metadata": {},
     "output_type": "execute_result"
    }
   ],
   "source": [
    "# Train the Logistic Regression model using the resampled data\n",
    "model = LogisticRegression(solver='lbfgs', random_state=1)\n",
    "model.fit(X_resampled, y_resampled)"
   ]
  },
  {
   "cell_type": "code",
   "execution_count": 15,
   "id": "be4680ca",
   "metadata": {},
   "outputs": [
    {
     "data": {
      "text/plain": [
       "1.0"
      ]
     },
     "execution_count": 15,
     "metadata": {},
     "output_type": "execute_result"
    }
   ],
   "source": [
    "# Calculated the balanced accuracy score\n",
    "y_pred = model.predict(X_test)\n",
    "balanced_accuracy_score(y_test, y_pred)"
   ]
  },
  {
   "cell_type": "code",
   "execution_count": 16,
   "id": "4274bd7c",
   "metadata": {},
   "outputs": [
    {
     "data": {
      "text/plain": [
       "array([[ 295,    0],\n",
       "       [   0, 3974]])"
      ]
     },
     "execution_count": 16,
     "metadata": {},
     "output_type": "execute_result"
    }
   ],
   "source": [
    "# Display the confusion matrix\n",
    "from sklearn.metrics import confusion_matrix\n",
    "confusion_matrix(y_test, y_pred)"
   ]
  },
  {
   "cell_type": "code",
   "execution_count": 17,
   "id": "8991ab80",
   "metadata": {},
   "outputs": [
    {
     "name": "stdout",
     "output_type": "stream",
     "text": [
      "                      pre       rec       spe        f1       geo       iba       sup\n",
      "\n",
      " is_successfil       1.00      1.00      1.00      1.00      1.00      1.00       295\n",
      "not_successful       1.00      1.00      1.00      1.00      1.00      1.00      3974\n",
      "\n",
      "   avg / total       1.00      1.00      1.00      1.00      1.00      1.00      4269\n",
      "\n"
     ]
    }
   ],
   "source": [
    "# Print the imbalanced classification report\n",
    "print(classification_report_imbalanced(y_test, y_pred))"
   ]
  },
  {
   "cell_type": "code",
   "execution_count": 18,
   "id": "2627afc9",
   "metadata": {},
   "outputs": [
    {
     "name": "stderr",
     "output_type": "stream",
     "text": [
      "/Users/kweeniehutjrs/opt/anaconda3/envs/mlenv/lib/python3.7/site-packages/imblearn/under_sampling/_prototype_generation/_cluster_centroids.py:178: ConvergenceWarning: Number of distinct clusters (784) found smaller than n_clusters (885). Possibly due to duplicate points in X.\n",
      "  self.estimator_.fit(_safe_indexing(X, target_class_indices))\n"
     ]
    },
    {
     "data": {
      "text/plain": [
       "Counter({'is_successfil': 885, 'not_successful': 885})"
      ]
     },
     "execution_count": 18,
     "metadata": {},
     "output_type": "execute_result"
    }
   ],
   "source": [
    "### UNDERSAMPLING\n",
    "# Resample the data using the ClusterCentroids resampler\n",
    "# Warning: This is a large dataset, and this step may take some time to complete\n",
    "from imblearn.under_sampling import ClusterCentroids\n",
    "cc = ClusterCentroids(random_state=1)\n",
    "X_resampled, y_resampled = cc.fit_resample(X_train, y_train)\n",
    "Counter(y_resampled)"
   ]
  },
  {
   "cell_type": "code",
   "execution_count": 19,
   "id": "f2b886c6",
   "metadata": {},
   "outputs": [
    {
     "data": {
      "text/plain": [
       "LogisticRegression(random_state=1)"
      ]
     },
     "execution_count": 19,
     "metadata": {},
     "output_type": "execute_result"
    }
   ],
   "source": [
    "# Train the Logistic Regression model using the resampled data\n",
    "from sklearn.linear_model import LogisticRegression\n",
    "model = LogisticRegression(solver='lbfgs', random_state=1)\n",
    "model.fit(X_resampled, y_resampled)"
   ]
  },
  {
   "cell_type": "code",
   "execution_count": 20,
   "id": "0e4fd981",
   "metadata": {},
   "outputs": [
    {
     "data": {
      "text/plain": [
       "1.0"
      ]
     },
     "execution_count": 20,
     "metadata": {},
     "output_type": "execute_result"
    }
   ],
   "source": [
    "# Calculated the balanced accuracy score\n",
    "from sklearn.metrics import balanced_accuracy_score\n",
    "balanced_accuracy_score(y_test, y_pred)"
   ]
  },
  {
   "cell_type": "code",
   "execution_count": 21,
   "id": "57258568",
   "metadata": {},
   "outputs": [
    {
     "data": {
      "text/plain": [
       "array([[ 295,    0],\n",
       "       [   0, 3974]])"
      ]
     },
     "execution_count": 21,
     "metadata": {},
     "output_type": "execute_result"
    }
   ],
   "source": [
    "# Display the confusion matrix\n",
    "from sklearn.metrics import confusion_matrix\n",
    "confusion_matrix(y_test, y_pred)"
   ]
  },
  {
   "cell_type": "code",
   "execution_count": 22,
   "id": "2618c1a8",
   "metadata": {},
   "outputs": [
    {
     "name": "stdout",
     "output_type": "stream",
     "text": [
      "                      pre       rec       spe        f1       geo       iba       sup\n",
      "\n",
      " is_successfil       1.00      1.00      1.00      1.00      1.00      1.00       295\n",
      "not_successful       1.00      1.00      1.00      1.00      1.00      1.00      3974\n",
      "\n",
      "   avg / total       1.00      1.00      1.00      1.00      1.00      1.00      4269\n",
      "\n"
     ]
    }
   ],
   "source": [
    "# Print the imbalanced classification report\n",
    "print(classification_report_imbalanced(y_test, y_pred))"
   ]
  },
  {
   "cell_type": "code",
   "execution_count": 23,
   "id": "a910a551",
   "metadata": {},
   "outputs": [
    {
     "data": {
      "text/plain": [
       "Counter({'is_successfil': 15893, 'not_successful': 15892})"
      ]
     },
     "execution_count": 23,
     "metadata": {},
     "output_type": "execute_result"
    }
   ],
   "source": [
    "### COMBINATION OF (OVER AND UNDER) SAMPBLING\n",
    "# Resample the training data with SMOTEENN\n",
    "# Warning: This is a large dataset, and this step may take some time to complete\n",
    "from imblearn.combine import SMOTEENN\n",
    "smote_enn = SMOTEENN(random_state=0)\n",
    "X_resampled, y_resampled = smote_enn.fit_resample(X, y)\n",
    "Counter(y_resampled)"
   ]
  },
  {
   "cell_type": "code",
   "execution_count": 24,
   "id": "7c4bf248",
   "metadata": {},
   "outputs": [
    {
     "data": {
      "text/plain": [
       "LogisticRegression(random_state=1)"
      ]
     },
     "execution_count": 24,
     "metadata": {},
     "output_type": "execute_result"
    }
   ],
   "source": [
    "# Train the Logistic Regression model using the resampled data\n",
    "from sklearn.linear_model import LogisticRegression\n",
    "model = LogisticRegression(solver='lbfgs', random_state=1)\n",
    "model.fit(X_resampled, y_resampled)"
   ]
  },
  {
   "cell_type": "code",
   "execution_count": 25,
   "id": "c40a52d0",
   "metadata": {},
   "outputs": [
    {
     "data": {
      "text/plain": [
       "1.0"
      ]
     },
     "execution_count": 25,
     "metadata": {},
     "output_type": "execute_result"
    }
   ],
   "source": [
    "# Calculated the balanced accuracy score\n",
    "from sklearn.metrics import balanced_accuracy_score\n",
    "balanced_accuracy_score(y_test, y_pred)"
   ]
  },
  {
   "cell_type": "code",
   "execution_count": 26,
   "id": "964f8a63",
   "metadata": {},
   "outputs": [
    {
     "data": {
      "text/plain": [
       "array([[ 295,    0],\n",
       "       [   0, 3974]])"
      ]
     },
     "execution_count": 26,
     "metadata": {},
     "output_type": "execute_result"
    }
   ],
   "source": [
    "# Display the confusion matrix\n",
    "from sklearn.metrics import confusion_matrix\n",
    "y_pred = model.predict(X_test)\n",
    "confusion_matrix(y_test, y_pred)"
   ]
  },
  {
   "cell_type": "code",
   "execution_count": 27,
   "id": "b3fcf99f",
   "metadata": {},
   "outputs": [
    {
     "name": "stdout",
     "output_type": "stream",
     "text": [
      "                      pre       rec       spe        f1       geo       iba       sup\n",
      "\n",
      " is_successfil       1.00      1.00      1.00      1.00      1.00      1.00       295\n",
      "not_successful       1.00      1.00      1.00      1.00      1.00      1.00      3974\n",
      "\n",
      "   avg / total       1.00      1.00      1.00      1.00      1.00      1.00      4269\n",
      "\n"
     ]
    }
   ],
   "source": [
    "# Print the imbalanced classification report\n",
    "from imblearn.metrics import classification_report_imbalanced\n",
    "print(classification_report_imbalanced(y_test, y_pred))"
   ]
  },
  {
   "cell_type": "code",
   "execution_count": null,
   "id": "b08ff24d",
   "metadata": {},
   "outputs": [],
   "source": []
  }
 ],
 "metadata": {
  "kernelspec": {
   "display_name": "mlenv",
   "language": "python",
   "name": "mlenv"
  },
  "language_info": {
   "codemirror_mode": {
    "name": "ipython",
    "version": 3
   },
   "file_extension": ".py",
   "mimetype": "text/x-python",
   "name": "python",
   "nbconvert_exporter": "python",
   "pygments_lexer": "ipython3",
   "version": "3.7.13"
  }
 },
 "nbformat": 4,
 "nbformat_minor": 5
}
